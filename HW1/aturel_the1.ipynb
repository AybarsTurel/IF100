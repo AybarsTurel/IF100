{
  "nbformat": 4,
  "nbformat_minor": 0,
  "metadata": {
    "colab": {
      "provenance": []
    },
    "kernelspec": {
      "name": "python3",
      "display_name": "Python 3"
    }
  },
  "cells": [
    {
      "cell_type": "code",
      "metadata": {
        "id": "9lLc78bxxJ5E",
        "outputId": "1055ca49-0bc6-4451-e0c5-b45d620c1adc",
        "colab": {
          "base_uri": "https://localhost:8080/"
        }
      },
      "source": [
        "#Author: Sevki Aybars Turel\n",
        "#Date: 02/11/2020\n",
        "#Purpose: This program calculates how many GB quota is left according to the message the user sends and the video time s/he watches.\n",
        "#         It shows the user how many minutes of video s/he can watch with the remaining quota.\n",
        "#Usage: There are no external files that are used in the program.\n",
        "#Any known bugs: There is no known bugs.\n",
        "#References: There is no references.\n",
        "\n",
        "\n",
        "# ---INPUT PART---\n",
        "\n",
        "quotaOfTheInternet = float (input('Please enter your internet quota (GB): ' ))\n",
        "videoViewingTime = float (input('Please enter your total video viewing time in minutes: '))\n",
        "numbersOfMessages = int (input('Please enter the number of messages you send: '))\n",
        "\n",
        "\n",
        "# ---CALCULATING THE INTERNET SPENT WHILE WATCHING VIDEO---\n",
        "\n",
        "spendingQuotaByVideo = ((7.7 / 1024) * videoViewingTime) # Conversion of MB to GB.\n",
        "\n",
        "\n",
        "# ---CALCULATING THE INTERNET THAT SPENDT BY SENDING MESSAGES---\n",
        "\n",
        "spendingQuotaByMessages = ((1.7 / (1024**2)) * numbersOfMessages) # Conversion of KB to GB.\n",
        "\n",
        "\n",
        "\n",
        "# ---CALCULATING THE REMAINING QUOTA---\n",
        "\n",
        "remainingQuota = ((quotaOfTheInternet) - spendingQuotaByVideo - spendingQuotaByMessages) # In GB.\n",
        "\n",
        "\n",
        "\n",
        "\n",
        "# ---CALCULATING USER'S VIDEO WATCHING TIME---\n",
        "# While watching 480p video in a minute, 7.7 MB will be spent.\n",
        "\n",
        "totalMinutesCanWatchVideo = (remainingQuota / (7.7/ 1024)) #Conversion of MB to GB and Finding total minutes can be spent.\n",
        "HourCanWatchVideo = int (totalMinutesCanWatchVideo // 60) #Finding Total Hour\n",
        "MinutesCanWatchVideo = int (totalMinutesCanWatchVideo % 60) #Finding Total Minutes\n",
        "SecondsCanWatchVideo = float ((totalMinutesCanWatchVideo * 60 )% 60) #Finding Total Seconds\n",
        "\n",
        "\n",
        "# ---OUTPUT PART---\n",
        "\n",
        "print('Your remaining internet quota is', format(remainingQuota, '.2f'), 'GB(s).')\n",
        "print('You can watch video for',HourCanWatchVideo, 'hour(s),', (MinutesCanWatchVideo), \\\n",
        "      'minute(s) and' , format(SecondsCanWatchVideo, '.2f'), 'second(s).')\n",
        "\n",
        "\n",
        "\n"
      ],
      "execution_count": null,
      "outputs": [
        {
          "output_type": "stream",
          "text": [
            "Please enter your internet quota (GB): 5.6\n",
            "Please enter your total video viewing time in minutes: 34.88\n",
            "Please enter the number of messages you send: 4325\n",
            "Your remaining internet quota is 5.33 GB(s).\n",
            "You can watch video for 11 hour(s), 48 minute(s) and 54.89 second(s).\n"
          ],
          "name": "stdout"
        }
      ]
    }
  ]
}