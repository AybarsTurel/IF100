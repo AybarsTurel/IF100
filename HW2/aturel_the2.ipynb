{
  "nbformat": 4,
  "nbformat_minor": 0,
  "metadata": {
    "colab": {
      "provenance": []
    },
    "kernelspec": {
      "name": "python3",
      "display_name": "Python 3"
    }
  },
  "cells": [
    {
      "cell_type": "code",
      "metadata": {
        "colab": {
          "base_uri": "https://localhost:8080/"
        },
        "id": "wpIBS405JZ5V",
        "outputId": "955eb95d-9fd4-4faf-9ea2-93d83b6205e9"
      },
      "source": [
        "# Sevki Aybars Turel\n",
        "\n",
        "\n",
        "# taking input from users\n",
        "# In this input part user will enter the courses that were continued previous term.\n",
        "previous_term_courses = input('Please enter the courses you have taken previously with letter grades: ')\n",
        "\n",
        "# In this part, I have counted the number of colons and semicolons\n",
        "\n",
        "total_number_of_semicolons = previous_term_courses.count(';')\n",
        "\n",
        "total_number_of_colons = previous_term_courses.count(':')\n",
        "\n",
        "# In this part, I have converted all semicolons to colons in order to make list properly.\n",
        "# I created a list which include the courses and the letter grades separately.\n",
        "\n",
        "\n",
        "# I have added the number of semicolon to 1. The result will be the number of colon,\n",
        "# For example, MATH101:A ; NS:B- we have two colons and one semicolon.\n",
        "if total_number_of_semicolons + 1 == total_number_of_colons :\n",
        "  current_term_courses = input('Please enter the courses you have taken this semester with letter grades: ')\n",
        "  total_number_of_semicolons_2 = current_term_courses.count(';')\n",
        "  total_number_of_colons_2 = current_term_courses.count(':')\n",
        "  # In this part, I have converted all semicolons to colons in order to make list properly.\n",
        "  # I created a list which include the courses and the letter grades separately.\n",
        "  a = current_term_courses.replace(\";\",\":\")\n",
        "  current_term_courses_list = a.split(\":\")\n",
        "  c = previous_term_courses.replace(\";\",\":\")\n",
        "  previous_term_courses_list = c.split(\":\")\n",
        "  # I have evaluated this part according to flow chart.\n",
        "  if total_number_of_semicolons_2 + 1 == total_number_of_colons_2 :\n",
        "    coursename = input(\"Please enter the course you want to check: \")\n",
        "    if coursename in  current_term_courses_list  :\n",
        "      b = int (current_term_courses_list.index(coursename))\n",
        "      the_letter_grade_for_course = current_term_courses_list[b+1]\n",
        "      if the_letter_grade_for_course == \"F\" or the_letter_grade_for_course == \"f\" :\n",
        "        if coursename in previous_term_courses_list :\n",
        "          d = int (previous_term_courses_list.index(coursename))\n",
        "          the_letter_grade_for_previous_course = previous_term_courses_list[d+1]\n",
        "          if the_letter_grade_for_previous_course == 'U' or the_letter_grade_for_previous_course == 'u':\n",
        "            print(\"Your grade for\",coursename,\"is U.\")\n",
        "          elif the_letter_grade_for_previous_course == 'F' or the_letter_grade_for_previous_course == 'f':\n",
        "            print(\"Your grade for\",coursename,\"is F.\")\n",
        "          else:\n",
        "            print(\"Your grade for\",coursename,\"is F.\")\n",
        "        else:\n",
        "          print( \"Your grade for\", coursename, \"is U.\")\n",
        "      else:\n",
        "        print(\"You can choose between S and \",the_letter_grade_for_course.upper(),\" for \",coursename,\".\",sep=\"\")\n",
        "    else:\n",
        "      print(\"You didn't take\" ,coursename, \"this semester.\")\n",
        "  else:\n",
        "    print('Invalid input')\n",
        "else:\n",
        "  print('Invalid input')"
      ],
      "execution_count": null,
      "outputs": [
        {
          "output_type": "stream",
          "name": "stdout",
          "text": [
            "Please enter the courses you have taken previously with letter grades: MATH101:A;SPS101:B;CS201:B+;HIST191:D;CS204:F;CS210:S\n",
            "Please enter the courses you have taken this semester with letter grades: MATH101:A;SPS101:B;CS201:B+;HIST191:D;CS205:F;CS210:A\n",
            "Please enter the course you want to check: CS201\n",
            "You can choose between S and B+ for CS201.\n"
          ]
        }
      ]
    }
  ]
}