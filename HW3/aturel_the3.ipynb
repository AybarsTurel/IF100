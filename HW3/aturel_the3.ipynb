{
  "nbformat": 4,
  "nbformat_minor": 0,
  "metadata": {
    "colab": {
      "provenance": []
    },
    "kernelspec": {
      "name": "python3",
      "display_name": "Python 3"
    }
  },
  "cells": [
    {
      "cell_type": "code",
      "metadata": {
        "id": "VdjM1DJIGrYF",
        "colab": {
          "base_uri": "https://localhost:8080/"
        },
        "outputId": "ed99bc75-72be-4c70-c88e-99b765980e93"
      },
      "source": [
        "#Sevki Aybars Turel\n",
        "\n",
        "movies = str (input(\"Please enter movie names and remaining quota: \"))\n",
        "\n",
        "new = movies.replace(\":\",\",\")\n",
        "\n",
        "the_list_of_movies = new.split(\",\")\n",
        "\n",
        "requested_movie = str (input(\"Please enter the movie you want to watch: \"))\n",
        "\n",
        "if requested_movie in the_list_of_movies:\n",
        "  requested_ticket = int (input(\"Please enter the number of tickets you want to buy: \"))\n",
        "  total_ticket_for_movie = 0\n",
        "\n",
        "  for x in range(0,len(the_list_of_movies)):\n",
        "    if the_list_of_movies[x] == requested_movie:\n",
        "      total_ticket_for_movie += int (the_list_of_movies[x+1])\n",
        "      b = the_list_of_movies.index(requested_movie)\n",
        "\n",
        "  if total_ticket_for_movie >= requested_ticket:\n",
        "    print(\"The reservation is done!\")\n",
        "\n",
        "  else:\n",
        "    z = the_list_of_movies.index(requested_movie)\n",
        "    the_list_for_movies = []\n",
        "    the_list_for_genres = []\n",
        "    the_list_for_seats = []\n",
        "    for y in range(0,len(the_list_of_movies),3):\n",
        "      if the_list_of_movies[y] not in the_list_for_movies and the_list_of_movies[y+2] == the_list_of_movies[z+2] and the_list_of_movies[y] != the_list_of_movies[z]:\n",
        "        the_list_for_movies.append(the_list_of_movies[y])\n",
        "        the_list_for_genres.append (the_list_of_movies[y+2])\n",
        "        the_list_for_seats.append(int (the_list_of_movies[y+1]))\n",
        "      elif the_list_of_movies[y] in the_list_for_movies and the_list_of_movies[y] != the_list_of_movies[z]:\n",
        "        movie_index = the_list_for_movies.index(the_list_of_movies[y])\n",
        "        the_list_of_movies[y+1] = int (the_list_of_movies[y + 1])\n",
        "        the_list_for_seats[movie_index] += the_list_of_movies[y+1]\n",
        "    if the_list_for_seats == [] :\n",
        "      print(\"There are not enough seats for \",requested_movie , \" and any other movie with the genre \" ,the_list_of_movies[z+2],\"!\", sep=\"\")\n",
        "    else:\n",
        "      for l in range(0,len(the_list_for_seats)):\n",
        "        if the_list_for_seats[l] >= requested_ticket:\n",
        "          print(\"There are not enough seats for \" ,requested_movie,\"! But you can watch one of the following movies from the genre \",the_list_of_movies[z+2],\":\",sep = \"\")\n",
        "          break\n",
        "      last_movies = []\n",
        "\n",
        "      for l in range(0,len(the_list_for_seats)):\n",
        "        if the_list_for_seats[l] >= requested_ticket:\n",
        "          last_movies.append(the_list_for_movies[l])\n",
        "      last_movies.sort()\n",
        "      for i in last_movies:\n",
        "        print(\"*\",i)\n",
        "      for l in range(0,len(the_list_for_seats)):\n",
        "        if the_list_for_seats[l] < requested_ticket:\n",
        "          print(\"There are not enough seats for \",requested_movie , \" and any other movie with the genre \" ,the_list_of_movies[z+2],\"!\", sep=\"\")\n",
        "          break\n",
        "else:\n",
        "  print(\"There is no such movie in the theater.\")"
      ],
      "execution_count": null,
      "outputs": [
        {
          "output_type": "stream",
          "text": [
            "Please enter movie names and remaining quota: fight club:8:drama,inception:9:action,forrest gump:3:drama,twelve angry men:4:crime,the shawshank redemption:1:drama,the matrix:6:action\n",
            "Please enter the movie you want to watch: forrest gump\n",
            "Please enter the number of tickets you want to buy: 4\n",
            "There are not enough seats for forrest gump! But you can watch one of the following movies from the genre drama:\n",
            "* fight club\n",
            "There are not enough seats for forrest gump and any other movie with the genre drama!\n"
          ],
          "name": "stdout"
        }
      ]
    },
    {
      "cell_type": "code",
      "metadata": {
        "id": "b1U_P8Soept8"
      },
      "source": [],
      "execution_count": null,
      "outputs": []
    }
  ]
}