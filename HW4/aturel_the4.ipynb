{
  "nbformat": 4,
  "nbformat_minor": 0,
  "metadata": {
    "colab": {
      "provenance": []
    },
    "kernelspec": {
      "name": "python3",
      "display_name": "Python 3"
    }
  },
  "cells": [
    {
      "cell_type": "code",
      "metadata": {
        "id": "sEYiJ6KMACg7",
        "colab": {
          "base_uri": "https://localhost:8080/"
        },
        "outputId": "86a69f2e-f1f3-4e4e-c00b-02a262e635d4"
      },
      "source": [
        "#Sevki Aybars Turel\n",
        "\n",
        "inFile = open(\"products.txt\", \"r\")\n",
        "str_file = inFile.readlines()\n",
        "\n",
        "inFile.close()\n",
        "\n",
        "def import_inventory():\n",
        "  myDict = {}\n",
        "  for line in str_file:\n",
        "    new_line = line.strip()\n",
        "    c = new_line.lower()\n",
        "    a = c.replace(\"-\",\"_\")\n",
        "    b = a.split(\"_\")\n",
        "    for idx in range(0,len(b),2):\n",
        "      d = int (b[idx+1])\n",
        "      if b[idx] not in myDict:\n",
        "        myDict[b[idx]] = d\n",
        "      else:\n",
        "        myDict[b[idx]] += d\n",
        "  return myDict\n",
        "\n",
        "def sell_product(products):\n",
        "  selling_products = input(\"Please enter products to sell: \")\n",
        "  new = selling_products.replace(\"_\",\"-\")\n",
        "  new_2 = new.lower()\n",
        "  list_selling_products = new_2.split(\"-\")\n",
        "  selling_dict = {}\n",
        "  for idx in range(0,len(list_selling_products),2):\n",
        "    amount = int (list_selling_products[idx+1])\n",
        "    if list_selling_products[idx] in selling_dict:\n",
        "      selling_dict[list_selling_products[idx]].append(amount)\n",
        "    else:\n",
        "      selling_dict[list_selling_products[idx]] = [amount]\n",
        "  #print(selling_dict)\n",
        "  for key, value in selling_dict.items():\n",
        "    for amount in value:\n",
        "      if key in products:\n",
        "        if amount <= products[key]:\n",
        "          print(amount,key,\"sold.\")\n",
        "          products[key] = products[key] - amount\n",
        "          if products[key] == 0:\n",
        "            products.pop(key)\n",
        "        elif amount > products[key]:\n",
        "            print(\"There is not enough\",key,\"in inventory.\")\n",
        "      else:\n",
        "        print(key,\"does not exist in inventory.\")\n",
        "  #print(products)\n",
        "\n",
        "\n",
        "def show_remaining(x):\n",
        "  if x == {}:\n",
        "    print(\"Inventory is empty!\")\n",
        "  else:\n",
        "    list_of_remaining = []\n",
        "    for key in x.keys():\n",
        "      list_of_remaining.append(key)\n",
        "    list_of_remaining.sort()\n",
        "    for prod in list_of_remaining:\n",
        "      print(prod,\":\",x[prod])\n",
        "\n",
        "\n",
        "products = import_inventory()\n",
        "decision = \"\"\n",
        "while decision != \"3\":\n",
        "  print(\"*---------------------------\")\n",
        "  print(\"[1] Sell products\")\n",
        "  print(\"[2] Show remaining inventory\")\n",
        "  print(\"[3] Terminate\")\n",
        "\n",
        "  decision = input(\"Please enter your decision: \")\n",
        "  print(\"____________________________\")\n",
        "  if decision == \"1\":\n",
        "    sell_product(products)\n",
        "  elif decision == \"2\":\n",
        "    show_remaining(products)\n",
        "  elif decision == \"3\":\n",
        "    print(\"Terminating...\")\n",
        "  else:\n",
        "    print(\"Invalid input!\")\n",
        "\n",
        "\n",
        "\n",
        "\n"
      ],
      "execution_count": null,
      "outputs": [
        {
          "output_type": "stream",
          "name": "stdout",
          "text": [
            "*---------------------------\n",
            "[1] Sell products\n",
            "[2] Show remaining inventory\n",
            "[3] Terminate\n",
            "Please enter your decision: 3\n",
            "____________________________\n",
            "Terminating...\n"
          ]
        }
      ]
    }
  ]
}